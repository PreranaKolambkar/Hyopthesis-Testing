{
 "cells": [
  {
   "cell_type": "code",
   "execution_count": 3,
   "id": "5b40f1e9-e883-4286-ba90-78762210a847",
   "metadata": {},
   "outputs": [],
   "source": [
    "#Objective:\n",
    "#To investigate the restaurant owners' claim about the increase in weekly operating costs using hypothesis testing.\n",
    "#Data Provided:\n",
    "#•\tThe theoretical weekly operating cost model: W = $1,000 + $5X\n",
    "#•\tSample of 25 restaurants with a mean weekly cost of Rs. 3,050\n",
    "#•\tNumber of units produced in a week (X) follows a normal distribution with a mean (μ) of 600 units and a standard deviation (σ) of 25 units\n"
   ]
  },
  {
   "cell_type": "markdown",
   "id": "10c4a2ad-ffc6-4e11-89f8-cc6aba3d6a8d",
   "metadata": {},
   "source": [
    "#solution"
   ]
  },
  {
   "cell_type": "code",
   "execution_count": 20,
   "id": "0880a8d1-0463-40ff-b114-5041b97de08b",
   "metadata": {},
   "outputs": [],
   "source": [
    "# given data:\n",
    "#cost model: W = $1,000 + $5X\n",
    "x_bar=3050                                #sample mean\n",
    "n=25                                      # sample size\n",
    "# mu=$1,000 + $5X for x=600 units      #population mean\n",
    "mu=337750\n",
    "sigma=125      #population standard deviation =5*25units\n"
   ]
  },
  {
   "cell_type": "markdown",
   "id": "4c2f1190-4a2a-4737-bff0-2fa0e245a5e9",
   "metadata": {},
   "source": [
    "# 1.Hypothesis statement:"
   ]
  },
  {
   "cell_type": "code",
   "execution_count": 9,
   "id": "f7cedf79-ffde-4378-88d0-136cf8f611bf",
   "metadata": {},
   "outputs": [],
   "source": [
    "#null hypothesis(Ho):There is no increase in weekly operating cost compared to the cost model.\n",
    "#alternative hypothesis(Ha):There is increase in weekly operating cost compared to the cost model.\n"
   ]
  },
  {
   "cell_type": "markdown",
   "id": "0b303536-af7c-4eae-af38-bbdbdb0ff987",
   "metadata": {},
   "source": [
    "# 2. calculatig the test statistic:"
   ]
  },
  {
   "cell_type": "code",
   "execution_count": 14,
   "id": "d55366ff-f1a6-41ce-b7ed-55e044c7d351",
   "metadata": {},
   "outputs": [],
   "source": [
    "import numpy as np"
   ]
  },
  {
   "cell_type": "code",
   "execution_count": 22,
   "id": "aa9fcba4-0d34-4167-80ab-4d3abbbf039d",
   "metadata": {},
   "outputs": [],
   "source": [
    "z_score=(x_bar-mu)/(sigma/np.sqrt(n))"
   ]
  },
  {
   "cell_type": "code",
   "execution_count": 24,
   "id": "0821bfae-0576-4b87-b44b-2469e5f99a65",
   "metadata": {},
   "outputs": [
    {
     "data": {
      "text/plain": [
       "-13388.0"
      ]
     },
     "execution_count": 24,
     "metadata": {},
     "output_type": "execute_result"
    }
   ],
   "source": [
    "z_score"
   ]
  },
  {
   "cell_type": "markdown",
   "id": "6b147b41-9f12-4a0a-8afa-5b5086361ffd",
   "metadata": {},
   "source": [
    " # 3.finding the critical value"
   ]
  },
  {
   "cell_type": "code",
   "execution_count": 17,
   "id": "9fa9013e-461c-4727-a932-62bbfa7ffc28",
   "metadata": {},
   "outputs": [],
   "source": [
    "# given aplha is 5%\n",
    "# from the z table for aplha/2=2.5% \n",
    "z_critical=1.9+0.06\n"
   ]
  },
  {
   "cell_type": "code",
   "execution_count": 19,
   "id": "875b6e3f-90fc-4f6d-b5b9-7adae0b92738",
   "metadata": {},
   "outputs": [
    {
     "data": {
      "text/plain": [
       "1.96"
      ]
     },
     "execution_count": 19,
     "metadata": {},
     "output_type": "execute_result"
    }
   ],
   "source": [
    "z_critical"
   ]
  },
  {
   "cell_type": "code",
   "execution_count": 13,
   "id": "8c89159d-d3c4-40e8-9dda-c2f37e7add22",
   "metadata": {},
   "outputs": [],
   "source": [
    "import scipy.stats as stats"
   ]
  },
  {
   "cell_type": "code",
   "execution_count": 15,
   "id": "1324918e-af63-4f86-9f74-1ab3edc60937",
   "metadata": {},
   "outputs": [
    {
     "data": {
      "text/plain": [
       "1.959963984540054"
      ]
     },
     "execution_count": 15,
     "metadata": {},
     "output_type": "execute_result"
    }
   ],
   "source": [
    "stats.norm.ppf(0.975)"
   ]
  },
  {
   "cell_type": "markdown",
   "id": "9a667bb0-a294-457a-ab3a-9059183f9fcd",
   "metadata": {},
   "source": [
    "# 4.decision"
   ]
  },
  {
   "cell_type": "markdown",
   "id": "5550500e-4ec9-4d44-81e7-e41dce499638",
   "metadata": {},
   "source": [
    "#here z_score>z_critical = reject null hypothesis.\n",
    "\n",
    "#therfore,there is increase in weekly operating cost compared to the cost model."
   ]
  },
  {
   "cell_type": "markdown",
   "id": "55c26038-075d-4bce-a637-13d852e2b2b2",
   "metadata": {},
   "source": [
    "# 5.conclusion"
   ]
  },
  {
   "cell_type": "markdown",
   "id": "322b51c8-cc0d-4a39-80f7-7261498079d7",
   "metadata": {},
   "source": [
    "#Even though we  reject the null hypothesis, the result shows that the observed weekly costs are much lower than the cost model's predicted cost. Therefore, there is no strong evidence to support the restaurant owners' claim that their costs are higher than the cost model suggests"
   ]
  },
  {
   "cell_type": "code",
   "execution_count": null,
   "id": "c5555fdf-3646-413f-8e7f-f879d38b84fb",
   "metadata": {},
   "outputs": [],
   "source": []
  }
 ],
 "metadata": {
  "kernelspec": {
   "display_name": "Python 3 (ipykernel)",
   "language": "python",
   "name": "python3"
  },
  "language_info": {
   "codemirror_mode": {
    "name": "ipython",
    "version": 3
   },
   "file_extension": ".py",
   "mimetype": "text/x-python",
   "name": "python",
   "nbconvert_exporter": "python",
   "pygments_lexer": "ipython3",
   "version": "3.9.20"
  }
 },
 "nbformat": 4,
 "nbformat_minor": 5
}
